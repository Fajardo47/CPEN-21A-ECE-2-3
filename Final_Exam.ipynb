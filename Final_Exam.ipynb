{
  "nbformat": 4,
  "nbformat_minor": 0,
  "metadata": {
    "colab": {
      "name": "Final Exam.ipynb",
      "provenance": [],
      "collapsed_sections": [],
      "authorship_tag": "ABX9TyNr8jltL2J9No1ar7gdo79w",
      "include_colab_link": true
    },
    "kernelspec": {
      "name": "python3",
      "display_name": "Python 3"
    },
    "language_info": {
      "name": "python"
    }
  },
  "cells": [
    {
      "cell_type": "markdown",
      "metadata": {
        "id": "view-in-github",
        "colab_type": "text"
      },
      "source": [
        "<a href=\"https://colab.research.google.com/github/Fajardo47/CPEN-21A-ECE-2-3/blob/main/Final_Exam.ipynb\" target=\"_parent\"><img src=\"https://colab.research.google.com/assets/colab-badge.svg\" alt=\"Open In Colab\"/></a>"
      ]
    },
    {
      "cell_type": "markdown",
      "source": [
        "#PROBLEM STATEMENT 1"
      ],
      "metadata": {
        "id": "fUPaHOWoKU9u"
      }
    },
    {
      "cell_type": "code",
      "execution_count": null,
      "metadata": {
        "colab": {
          "base_uri": "https://localhost:8080/"
        },
        "id": "XaNSH9tdJSBP",
        "outputId": "ca1b50b4-62e2-42cd-966a-da0643f61c14"
      },
      "outputs": [
        {
          "output_type": "stream",
          "name": "stdout",
          "text": [
            "-5\n"
          ]
        }
      ],
      "source": [
        "sum =0\n",
        "for number in range(-5,5):\n",
        "  sum+=number\n",
        "print(sum)"
      ]
    },
    {
      "cell_type": "markdown",
      "source": [
        "#PROBLEM STATEMENT 2"
      ],
      "metadata": {
        "id": "145eR_tcKr9o"
      }
    },
    {
      "cell_type": "code",
      "source": [
        "x=0\n",
        "while x<5:\n",
        "  number= int(input(\"Please Enter Your number:\",))\n",
        "  if x==0:\n",
        "    digit1 = number\n",
        "  elif x==4:\n",
        "    digit2 = number\n",
        "  x+=1\n",
        "print(digit1 + digit2)"
      ],
      "metadata": {
        "colab": {
          "base_uri": "https://localhost:8080/"
        },
        "id": "qrpaRALbKulF",
        "outputId": "59255dbd-60d8-471a-cbb1-e873cbd9df77"
      },
      "execution_count": null,
      "outputs": [
        {
          "output_type": "stream",
          "name": "stdout",
          "text": [
            "Please Enter Your number:47\n",
            "Please Enter Your number:89\n",
            "Please Enter Your number:78\n",
            "Please Enter Your number:09\n",
            "Please Enter Your number:0\n",
            "47\n"
          ]
        }
      ]
    },
    {
      "cell_type": "markdown",
      "source": [
        "#PROBLEM STATEMENT 3"
      ],
      "metadata": {
        "id": "1hGYLcrkLUuZ"
      }
    },
    {
      "cell_type": "code",
      "source": [
        "grade= float(input(\"Please Enter Your Grade:\",))\n",
        "\n",
        "if grade <0:\n",
        "  print(\"Please Enter A Valid Grade\")\n",
        "else:\n",
        "  if grade<60:\n",
        "    print(\"F\")\n",
        "  else:\n",
        "    if grade<70:\n",
        "      print(\"D\")\n",
        "    else:\n",
        "      if grade<80:\n",
        "        print(\"C\")\n",
        "      else:\n",
        "        if grade<90:\n",
        "          print(\"B\")\n",
        "        else:\n",
        "          if grade<=100:\n",
        "            print(\"A\")\n",
        "          else:\n",
        "             print(\"Please Enter A Valid Grade\")"
      ],
      "metadata": {
        "id": "Ty4ks4zJLXjP",
        "colab": {
          "base_uri": "https://localhost:8080/"
        },
        "outputId": "a05a4342-6c02-427e-8d46-6c6b14a9d6e7"
      },
      "execution_count": null,
      "outputs": [
        {
          "output_type": "stream",
          "name": "stdout",
          "text": [
            "Please Enter Your Grade:90\n",
            "A\n"
          ]
        }
      ]
    }
  ]
}