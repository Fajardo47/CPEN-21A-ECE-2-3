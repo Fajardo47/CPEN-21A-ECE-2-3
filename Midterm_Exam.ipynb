{
  "nbformat": 4,
  "nbformat_minor": 0,
  "metadata": {
    "colab": {
      "name": "Midterm Exam.ipynb",
      "provenance": [],
      "collapsed_sections": [],
      "authorship_tag": "ABX9TyNxpY2OaRVV/ki32qVjwuRc",
      "include_colab_link": true
    },
    "kernelspec": {
      "name": "python3",
      "display_name": "Python 3"
    },
    "language_info": {
      "name": "python"
    }
  },
  "cells": [
    {
      "cell_type": "markdown",
      "metadata": {
        "id": "view-in-github",
        "colab_type": "text"
      },
      "source": [
        "<a href=\"https://colab.research.google.com/github/Fajardo47/CPEN-21A-ECE-2-3/blob/main/Midterm_Exam.ipynb\" target=\"_parent\"><img src=\"https://colab.research.google.com/assets/colab-badge.svg\" alt=\"Open In Colab\"/></a>"
      ]
    },
    {
      "cell_type": "code",
      "metadata": {
        "id": "ATsyyrXXsMHT"
      },
      "source": [
        ""
      ],
      "execution_count": null,
      "outputs": []
    },
    {
      "cell_type": "markdown",
      "metadata": {
        "id": "wBvH8pXMsfZB"
      },
      "source": [
        "##PROBLEM STATEMENT 1"
      ]
    },
    {
      "cell_type": "code",
      "metadata": {
        "colab": {
          "base_uri": "https://localhost:8080/"
        },
        "id": "IRS-PLjysk9v",
        "outputId": "2104f71d-6714-4b09-ae8d-7342253e0c35"
      },
      "source": [
        "#a.full name\n",
        "a=\"Mark Kevin R. Fajardo\"\n",
        "print(\"Full name:\",a)\n",
        "\n",
        "#b. student number\n",
        "b=202013247\n",
        "print(\"Student Number:\", b)\n",
        "\n",
        "#c.Age\n",
        "c=19\n",
        "print(\"Age:\",c)\n",
        "\n",
        "#d. Birthday\n",
        "d=\"July 06,2002\"\n",
        "print(\"Birthday:\", d) \n",
        "\n",
        "#e. Address\n",
        "e=\"Blk 246 Lt.4,\"\n",
        "e1=\"St. Francis Village,\"\n",
        "e2= \"Brgy. Alingaro,\"\n",
        "e3 =\"General Trias,\"\n",
        "e4='Cavite'\n",
        "print(\"Address:\", e, e1, e2, e3, e4) \n",
        "\n",
        "#f. course\n",
        "f=\"Bachelor of Science in Electronics Engineering(BSECE)\"\n",
        "print(\"Course:\", f)\n",
        "\n",
        " #g. Last Sem GWA\n",
        "g= \"1.56\"\n",
        "print(\"Last Sem GWA:\", g)"
      ],
      "execution_count": 40,
      "outputs": [
        {
          "output_type": "stream",
          "name": "stdout",
          "text": [
            "Full name: Mark Kevin R. Fajardo\n",
            "Student Number: 202013247\n",
            "Age: 19\n",
            "Birthday: July 06,2002\n",
            "Address: Blk 246 Lt.4, St. Francis Village, Brgy. Alingaro, General Trias, Cavite\n",
            "Course: Bachelor of Science in Electronics Engineering(BSECE)\n",
            "Last Sem GWA: 1.56\n"
          ]
        }
      ]
    },
    {
      "cell_type": "markdown",
      "metadata": {
        "id": "cXsv6z-juUsl"
      },
      "source": [
        "##PROBLEM STATEMENT 2"
      ]
    },
    {
      "cell_type": "code",
      "metadata": {
        "colab": {
          "base_uri": "https://localhost:8080/"
        },
        "id": "2gCeKh_kuFJT",
        "outputId": "907ff8bb-0724-4be0-d40a-ffccd45f7b01"
      },
      "source": [
        "#Initializing Values\n",
        "n =4\n",
        "answ = \"Y\"\n",
        "\n",
        "#A. \n",
        "print((2<n) and (n<6) )\n",
        "#B.\n",
        "print((2<n) or (n==6))\n",
        "#C.\n",
        "print(not(2<n) or (n==6))\n",
        "#D.\n",
        "print(not(n<6))\n",
        "#E. \n",
        "print((answ==\"Y\")or (answ==\"y\"))\n",
        "#F.\n",
        "print((answ==\"Y\") and (answ==\"y\")) \n",
        "#G.\n",
        "print(not(answ==\"y\"))\n",
        "#H.\n",
        "print(((2<n) and (n== 5+1)) or (answ==\"No\"))\n",
        "#I. \n",
        "print(((n==2)and(n==7)) or (answ==\"Y\"))\n",
        "#J. \n",
        "print((n==2) and ((n==7) or (answ==\"Y\")))\n"
      ],
      "execution_count": 43,
      "outputs": [
        {
          "output_type": "stream",
          "name": "stdout",
          "text": [
            "True\n",
            "True\n",
            "False\n",
            "False\n",
            "True\n",
            "False\n",
            "True\n",
            "False\n",
            "True\n",
            "False\n"
          ]
        }
      ]
    },
    {
      "cell_type": "markdown",
      "metadata": {
        "id": "a74o8UCvxSqe"
      },
      "source": [
        "##PROBLEM STATEMENT 3"
      ]
    },
    {
      "cell_type": "code",
      "metadata": {
        "colab": {
          "base_uri": "https://localhost:8080/"
        },
        "id": "zXSGR2xfxcin",
        "outputId": "6a146461-f288-44a6-84d5-8f79ba85c145"
      },
      "source": [
        "#Initializing Values\n",
        "x=2\n",
        "y =-3\n",
        "w =7\n",
        "z =-10\n",
        "\n",
        "#a. \n",
        "a= x/y\n",
        "print(a)\n",
        "\n",
        "#b.\n",
        "b=w/y/x\n",
        "print(b)\n",
        "\n",
        "#c.\n",
        "c= z/y%x\n",
        "print(c)\n",
        "\n",
        "#d. \n",
        "d = x%-y*w\n",
        "print(d)\n",
        "\n",
        "#e. \n",
        "e =x%y\n",
        "print(e)\n",
        "\n",
        "#f. \n",
        "f= z%w-y/x*5+5\n",
        "print(f)\n",
        "\n",
        "#g. \n",
        "g= 9-x%(2+y)\n",
        "print(g)\n",
        "\n",
        "#h. \n",
        "h= z//w\n",
        "print(h)\n",
        "\n",
        "#i. \n",
        "i= (2+y)**2\n",
        "print(i)\n",
        "\n",
        "#j\n",
        "j= w/x*2\n",
        "print(j)\n"
      ],
      "execution_count": 42,
      "outputs": [
        {
          "output_type": "stream",
          "name": "stdout",
          "text": [
            "-0.6666666666666666\n",
            "-1.1666666666666667\n",
            "1.3333333333333335\n",
            "14\n",
            "-1\n",
            "16.5\n",
            "9\n",
            "-2\n",
            "1\n",
            "7.0\n"
          ]
        }
      ]
    }
  ]
}