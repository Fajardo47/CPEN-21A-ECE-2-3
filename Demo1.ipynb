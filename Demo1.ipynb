{
  "nbformat": 4,
  "nbformat_minor": 0,
  "metadata": {
    "colab": {
      "name": "Demo1.ipynb",
      "provenance": [],
      "collapsed_sections": [],
      "authorship_tag": "ABX9TyONSSqAMcJJ/j2WwnMyVD48",
      "include_colab_link": true
    },
    "kernelspec": {
      "name": "python3",
      "display_name": "Python 3"
    },
    "language_info": {
      "name": "python"
    }
  },
  "cells": [
    {
      "cell_type": "markdown",
      "metadata": {
        "id": "view-in-github",
        "colab_type": "text"
      },
      "source": [
        "<a href=\"https://colab.research.google.com/github/Fajardo47/CPEN_21A_BS_ECE_2-3/blob/main/Demo1.ipynb\" target=\"_parent\"><img src=\"https://colab.research.google.com/assets/colab-badge.svg\" alt=\"Open In Colab\"/></a>"
      ]
    },
    {
      "cell_type": "markdown",
      "metadata": {
        "id": "PYwj7kFajToF"
      },
      "source": [
        "##Python Indention\n"
      ]
    },
    {
      "cell_type": "code",
      "metadata": {
        "colab": {
          "base_uri": "https://localhost:8080/"
        },
        "id": "KDDfoF7RjtRK",
        "outputId": "34bdfd64-8510-4243-99c8-6a31e47c391a"
      },
      "source": [
        "if 5>2:\n",
        "  print (\"Five is greater than two\") #This code shows a string of a words "
      ],
      "execution_count": 1,
      "outputs": [
        {
          "output_type": "stream",
          "name": "stdout",
          "text": [
            "Five is greater than two\n"
          ]
        }
      ]
    },
    {
      "cell_type": "markdown",
      "metadata": {
        "id": "YhpwXJ2wlw0K"
      },
      "source": [
        "##Python Variable"
      ]
    },
    {
      "cell_type": "code",
      "metadata": {
        "colab": {
          "base_uri": "https://localhost:8080/"
        },
        "id": "2TnU0dbYjhSJ",
        "outputId": "9084d580-8d58-4081-e7bd-1c1dea161277"
      },
      "source": [
        "a,b,c=0,1,2\n",
        "d =\"Sally\"  #This is a type of string\n",
        "s= 'mark'  #This is a type of string\n",
        "A= 'Raymond'\n",
        "print(a)\n",
        "print(b)\n",
        "print(c)\n",
        "print(d)\n",
        "print(s)\n",
        "print(A)"
      ],
      "execution_count": 28,
      "outputs": [
        {
          "output_type": "stream",
          "name": "stdout",
          "text": [
            "0\n",
            "1\n",
            "2\n",
            "Sally\n",
            "mark\n",
            "Raymond\n"
          ]
        }
      ]
    },
    {
      "cell_type": "markdown",
      "metadata": {
        "id": "JZjGaQsWmXuZ"
      },
      "source": [
        "###Casting"
      ]
    },
    {
      "cell_type": "code",
      "metadata": {
        "colab": {
          "base_uri": "https://localhost:8080/"
        },
        "id": "wmNImBbzmZnt",
        "outputId": "a9896c35-5b7d-4bbb-ca57-218ba1a84dfa"
      },
      "source": [
        "print(float(4))\n",
        "f =56.47\n",
        "print(type(f))\n"
      ],
      "execution_count": 29,
      "outputs": [
        {
          "output_type": "stream",
          "name": "stdout",
          "text": [
            "4.0\n",
            "<class 'float'>\n"
          ]
        }
      ]
    },
    {
      "cell_type": "code",
      "metadata": {
        "colab": {
          "base_uri": "https://localhost:8080/"
        },
        "id": "r-499P72nvAU",
        "outputId": "c4a0e1e5-8312-461b-eaee-81ea3ba6cfc6"
      },
      "source": [
        "x,y,z=\"one\",\"two\", \"three\"\n",
        "print(x)\n",
        "print(y)\n",
        "print(z)"
      ],
      "execution_count": 11,
      "outputs": [
        {
          "output_type": "stream",
          "name": "stdout",
          "text": [
            "one\n",
            "two\n",
            "three\n"
          ]
        }
      ]
    },
    {
      "cell_type": "code",
      "metadata": {
        "colab": {
          "base_uri": "https://localhost:8080/"
        },
        "id": "D29vrX87oCt7",
        "outputId": "50e32476-3b82-49bc-cfed-948b226126aa"
      },
      "source": [
        "x=y=z=\"four\"  #Multiple variable but single value\n",
        "print(x)\n",
        "print(y)\n",
        "print(z)"
      ],
      "execution_count": 13,
      "outputs": [
        {
          "output_type": "stream",
          "name": "stdout",
          "text": [
            "four\n",
            "four\n",
            "four\n"
          ]
        }
      ]
    },
    {
      "cell_type": "code",
      "metadata": {
        "colab": {
          "base_uri": "https://localhost:8080/"
        },
        "id": "75bY7XHAoVR0",
        "outputId": "38ccf452-85f7-4f19-82e0-b66317d3b478"
      },
      "source": [
        "x= \"enjoying\"\n",
        "print(\"Python programming is \"+x)"
      ],
      "execution_count": 15,
      "outputs": [
        {
          "output_type": "stream",
          "name": "stdout",
          "text": [
            "Python programming is enjoying\n"
          ]
        }
      ]
    },
    {
      "cell_type": "markdown",
      "metadata": {
        "id": "cQwNDBLio68c"
      },
      "source": [
        "##Operations in Python"
      ]
    },
    {
      "cell_type": "code",
      "metadata": {
        "colab": {
          "base_uri": "https://localhost:8080/"
        },
        "id": "eppGsosUo-G2",
        "outputId": "7f89203c-9fc2-4c72-fed1-6d65f34b9acb"
      },
      "source": [
        "k=10\n",
        "l=5\n",
        "print(k+l)"
      ],
      "execution_count": 16,
      "outputs": [
        {
          "output_type": "stream",
          "name": "stdout",
          "text": [
            "15\n"
          ]
        }
      ]
    },
    {
      "cell_type": "code",
      "metadata": {
        "colab": {
          "base_uri": "https://localhost:8080/"
        },
        "id": "ZXl0go1NpSc1",
        "outputId": "a0907126-c694-482f-fdc8-484a244b891a"
      },
      "source": [
        "k+=l     #Is the same as k=k+l\n",
        "print(k)\n"
      ],
      "execution_count": 17,
      "outputs": [
        {
          "output_type": "stream",
          "name": "stdout",
          "text": [
            "15\n"
          ]
        }
      ]
    },
    {
      "cell_type": "code",
      "metadata": {
        "colab": {
          "base_uri": "https://localhost:8080/"
        },
        "id": "Fpv6eXVupvkn",
        "outputId": "8948fa04-03dd-4dc0-8cda-58fa57add375"
      },
      "source": [
        "k>l or l==k\n",
        "k>l or l==k\n",
        "not (k>1 or k==l)\n"
      ],
      "execution_count": 30,
      "outputs": [
        {
          "output_type": "execute_result",
          "data": {
            "text/plain": [
              "True"
            ]
          },
          "metadata": {},
          "execution_count": 30
        }
      ]
    },
    {
      "cell_type": "code",
      "metadata": {
        "colab": {
          "base_uri": "https://localhost:8080/"
        },
        "id": "uOjzobi0qgkK",
        "outputId": "e9f5d433-52c8-44c9-946d-00dfead49adf"
      },
      "source": [
        "not (k is l)\n",
        "k is not l"
      ],
      "execution_count": 25,
      "outputs": [
        {
          "output_type": "execute_result",
          "data": {
            "text/plain": [
              "True"
            ]
          },
          "metadata": {},
          "execution_count": 25
        }
      ]
    },
    {
      "cell_type": "code",
      "metadata": {
        "colab": {
          "base_uri": "https://localhost:8080/"
        },
        "id": "RqPesa63q74Y",
        "outputId": "29f6947a-4828-4e6c-ac65-b6ed34798c4e"
      },
      "source": [
        "k%=3\n",
        "k"
      ],
      "execution_count": 27,
      "outputs": [
        {
          "output_type": "execute_result",
          "data": {
            "text/plain": [
              "0"
            ]
          },
          "metadata": {},
          "execution_count": 27
        }
      ]
    },
    {
      "cell_type": "markdown",
      "metadata": {
        "id": "UqKqDlInq7a-"
      },
      "source": [
        ""
      ]
    }
  ]
}