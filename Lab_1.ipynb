{
  "nbformat": 4,
  "nbformat_minor": 0,
  "metadata": {
    "colab": {
      "name": "Lab 1.ipynb",
      "provenance": [],
      "authorship_tag": "ABX9TyOKYbrVGVB3OXLjqoup83I1",
      "include_colab_link": true
    },
    "kernelspec": {
      "name": "python3",
      "display_name": "Python 3"
    },
    "language_info": {
      "name": "python"
    }
  },
  "cells": [
    {
      "cell_type": "markdown",
      "metadata": {
        "id": "view-in-github",
        "colab_type": "text"
      },
      "source": [
        "<a href=\"https://colab.research.google.com/github/Fajardo47/CPEN_21A_BS_ECE_2-3/blob/main/Lab_1.ipynb\" target=\"_parent\"><img src=\"https://colab.research.google.com/assets/colab-badge.svg\" alt=\"Open In Colab\"/></a>"
      ]
    },
    {
      "cell_type": "markdown",
      "metadata": {
        "id": "CFRDHHnPgie1"
      },
      "source": [
        "#Laboratory 1\n"
      ]
    },
    {
      "cell_type": "code",
      "metadata": {
        "colab": {
          "base_uri": "https://localhost:8080/"
        },
        "id": "5jb5GTBLgpD3",
        "outputId": "17e2f6c3-33dc-422b-da9c-3cadaa1731fc"
      },
      "source": [
        " print(\"Welcome to Python Programming\")"
      ],
      "execution_count": 5,
      "outputs": [
        {
          "output_type": "stream",
          "name": "stdout",
          "text": [
            "Welcome to Python Programming\n"
          ]
        }
      ]
    },
    {
      "cell_type": "code",
      "metadata": {
        "colab": {
          "base_uri": "https://localhost:8080/"
        },
        "id": "zHi3w72PhqnL",
        "outputId": "58c99014-56cc-45b4-88d4-f98b847ae5eb"
      },
      "source": [
        "name=\"Mark Kevin R. Fajardo\"\n",
        "Address = \"Blk 14 Lot 4 St. Francis Village, brgy. Alingaro, General trias, Cavite\"\n",
        "Age = \"19yrs old\"\n",
        "print(\"Name:\",name)\n",
        "print(\"Address:\", Address)\n",
        "print(\"Age:\", Age)"
      ],
      "execution_count": 9,
      "outputs": [
        {
          "output_type": "stream",
          "name": "stdout",
          "text": [
            "Name: Mark Kevin R. Fajardo\n",
            "Address: Blk 14 Lot 4 St. Francis Village, brgy. Alingaro, General trias, Cavite\n",
            "Age: 19yrs old\n"
          ]
        }
      ]
    }
  ]
}